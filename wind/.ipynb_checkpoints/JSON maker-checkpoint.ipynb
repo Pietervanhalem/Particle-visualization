{
 "cells": [
  {
   "cell_type": "code",
   "execution_count": 68,
   "metadata": {},
   "outputs": [],
   "source": [
    "import numpy as np\n",
    "import json\n",
    "\n",
    "def f(X):\n",
    "    x = X *2*np.pi / 162\n",
    "    x = np.arctan(np.exp(x)) * 2 - np.pi/2\n",
    "    x = np.degrees(x)\n",
    "    return x"
   ]
  },
  {
   "cell_type": "code",
   "execution_count": 69,
   "metadata": {},
   "outputs": [],
   "source": [
    "dx = 360 / 4\n",
    "dy = 162 / 4"
   ]
  },
  {
   "cell_type": "code",
   "execution_count": 71,
   "metadata": {},
   "outputs": [
    {
     "name": "stdout",
     "output_type": "stream",
     "text": [
      "layer401.json\n",
      "[[-180.0, 85.0511287798066], [-90.0, 85.0511287798066], [-90.0, 66.51326044311185], [-180.0, 66.51326044311185]]\n",
      "\n",
      "layer402.json\n",
      "[[-90.0, 85.0511287798066], [0.0, 85.0511287798066], [0.0, 66.51326044311185], [-90.0, 66.51326044311185]]\n",
      "\n",
      "layer403.json\n",
      "[[0.0, 85.0511287798066], [90.0, 85.0511287798066], [90.0, 66.51326044311185], [0.0, 66.51326044311185]]\n",
      "\n",
      "layer404.json\n",
      "[[90.0, 85.0511287798066], [180.0, 85.0511287798066], [180.0, 66.51326044311185], [90.0, 66.51326044311185]]\n",
      "\n",
      "layer405.json\n",
      "[[180.0, 85.0511287798066], [270.0, 85.0511287798066], [270.0, 66.51326044311185], [180.0, 66.51326044311185]]\n",
      "\n",
      "layer406.json\n",
      "[[-180.0, 66.51326044311185], [-90.0, 66.51326044311185], [-90.0, 0.0], [-180.0, 0.0]]\n",
      "\n",
      "layer407.json\n",
      "[[-90.0, 66.51326044311185], [0.0, 66.51326044311185], [0.0, 0.0], [-90.0, 0.0]]\n",
      "\n",
      "layer408.json\n",
      "[[0.0, 66.51326044311185], [90.0, 66.51326044311185], [90.0, 0.0], [0.0, 0.0]]\n",
      "\n",
      "layer409.json\n",
      "[[90.0, 66.51326044311185], [180.0, 66.51326044311185], [180.0, 0.0], [90.0, 0.0]]\n",
      "\n",
      "layer410.json\n",
      "[[180.0, 66.51326044311185], [270.0, 66.51326044311185], [270.0, 0.0], [180.0, 0.0]]\n",
      "\n",
      "layer411.json\n",
      "[[-180.0, 0.0], [-90.0, 0.0], [-90.0, -66.51326044311185], [-180.0, -66.51326044311185]]\n",
      "\n",
      "layer412.json\n",
      "[[-90.0, 0.0], [0.0, 0.0], [0.0, -66.51326044311185], [-90.0, -66.51326044311185]]\n",
      "\n",
      "layer413.json\n",
      "[[0.0, 0.0], [90.0, 0.0], [90.0, -66.51326044311185], [0.0, -66.51326044311185]]\n",
      "\n",
      "layer414.json\n",
      "[[90.0, 0.0], [180.0, 0.0], [180.0, -66.51326044311185], [90.0, -66.51326044311185]]\n",
      "\n",
      "layer415.json\n",
      "[[180.0, 0.0], [270.0, 0.0], [270.0, -66.51326044311185], [180.0, -66.51326044311185]]\n",
      "\n",
      "layer416.json\n",
      "[[-180.0, -66.51326044311185], [-90.0, -66.51326044311185], [-90.0, -85.05112877980659], [-180.0, -85.05112877980659]]\n",
      "\n"
     ]
    }
   ],
   "source": [
    "x = -180\n",
    "y = 81\n",
    "for i in range(16):\n",
    "    boundary = np.ndarray.tolist(np.array([(x,f(y)), (x+dx, f(y)), (x+dx, f(y-dy)),(x, f(y-dy))]))\n",
    "    data = {\n",
    "        \"source\": \"http://nomads.ncep.noaa.gov\",\n",
    "        \"width\": 160,\n",
    "        \"height\": 80,\n",
    "        \"uMin\": -21.32,\n",
    "        \"uMax\": 26.8,\n",
    "        \"vMin\": -21.57,\n",
    "        \"vMax\": 21.42,\n",
    "        \"boundary\":boundary,\n",
    "        \"zoom\":[2,10]\n",
    "        \n",
    "    }\n",
    "    if i < 9:\n",
    "        name = \"layer40{}.json\".format(i + 1)\n",
    "    else:\n",
    "        name = \"layer4{}.json\".format(i+1)\n",
    "    \n",
    "    print(name)\n",
    "    print(boundary)\n",
    "    print('')\n",
    "    \n",
    "    with open(name, 'w') as outfile:\n",
    "        json.dump(data, outfile)\n",
    "\n",
    "    if x < 180:\n",
    "        x = x+ dx\n",
    "    else:\n",
    "        x = -180\n",
    "        y = y - dy"
   ]
  },
  {
   "cell_type": "code",
   "execution_count": 8,
   "metadata": {},
   "outputs": [
    {
     "data": {
      "text/plain": [
       "{'source': 'http://nomads.ncep.noaa.gov',\n",
       " 'width': 160,\n",
       " 'height': 80,\n",
       " 'uMin': -21.32,\n",
       " 'uMax': 26.8,\n",
       " 'vMin': -21.57,\n",
       " 'vMax': 21.42,\n",
       " 'boundary': [[-180, -40], [-90, -40], [-90, -81], [-180, -81]],\n",
       " 'zoom': [2, 10]}"
      ]
     },
     "execution_count": 8,
     "metadata": {},
     "output_type": "execute_result"
    }
   ],
   "source": [
    "data"
   ]
  },
  {
   "cell_type": "code",
   "execution_count": null,
   "metadata": {},
   "outputs": [],
   "source": [
    "def finv(X):\n",
    "    x = X *2*np.pi / 180\n",
    "    x = np.arctan(np.exp(x)) * 2 - np.pi/2\n",
    "    x = np.degrees(x)\n",
    "    return x"
   ]
  }
 ],
 "metadata": {
  "kernelspec": {
   "display_name": "Python 3",
   "language": "python",
   "name": "python3"
  },
  "language_info": {
   "codemirror_mode": {
    "name": "ipython",
    "version": 3
   },
   "file_extension": ".py",
   "mimetype": "text/x-python",
   "name": "python",
   "nbconvert_exporter": "python",
   "pygments_lexer": "ipython3",
   "version": "3.6.5"
  }
 },
 "nbformat": 4,
 "nbformat_minor": 2
}
